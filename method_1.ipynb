{
 "cells": [
  {
   "cell_type": "code",
   "execution_count": 1,
   "metadata": {},
   "outputs": [],
   "source": [
    "import geopandas as gpd\n",
    "import pandas as pd\n",
    "import matplotlib.pyplot as plt"
   ]
  },
  {
   "cell_type": "code",
   "execution_count": 2,
   "metadata": {},
   "outputs": [],
   "source": [
    "sample_trips = pd.read_csv(\"sample_trips_between_taz_zones.csv\")"
   ]
  },
  {
   "cell_type": "code",
   "execution_count": 3,
   "metadata": {},
   "outputs": [
    {
     "data": {
      "text/html": [
       "<div>\n",
       "<style scoped>\n",
       "    .dataframe tbody tr th:only-of-type {\n",
       "        vertical-align: middle;\n",
       "    }\n",
       "\n",
       "    .dataframe tbody tr th {\n",
       "        vertical-align: top;\n",
       "    }\n",
       "\n",
       "    .dataframe thead th {\n",
       "        text-align: right;\n",
       "    }\n",
       "</style>\n",
       "<table border=\"1\" class=\"dataframe\">\n",
       "  <thead>\n",
       "    <tr style=\"text-align: right;\">\n",
       "      <th></th>\n",
       "      <th>PersonID</th>\n",
       "      <th>OTAZ</th>\n",
       "      <th>DTAZ</th>\n",
       "      <th>Taxi Cost</th>\n",
       "      <th>TaxiTime(s)</th>\n",
       "    </tr>\n",
       "  </thead>\n",
       "  <tbody>\n",
       "    <tr>\n",
       "      <th>0</th>\n",
       "      <td>30004031</td>\n",
       "      <td>377</td>\n",
       "      <td>425</td>\n",
       "      <td>10.104280</td>\n",
       "      <td>525.52</td>\n",
       "    </tr>\n",
       "    <tr>\n",
       "      <th>1</th>\n",
       "      <td>30004031</td>\n",
       "      <td>425</td>\n",
       "      <td>377</td>\n",
       "      <td>10.104280</td>\n",
       "      <td>525.52</td>\n",
       "    </tr>\n",
       "    <tr>\n",
       "      <th>2</th>\n",
       "      <td>30007491</td>\n",
       "      <td>1607</td>\n",
       "      <td>1607</td>\n",
       "      <td>8.223156</td>\n",
       "      <td>380.72</td>\n",
       "    </tr>\n",
       "    <tr>\n",
       "      <th>3</th>\n",
       "      <td>30007491</td>\n",
       "      <td>1607</td>\n",
       "      <td>1607</td>\n",
       "      <td>8.223156</td>\n",
       "      <td>380.72</td>\n",
       "    </tr>\n",
       "    <tr>\n",
       "      <th>4</th>\n",
       "      <td>30007492</td>\n",
       "      <td>1607</td>\n",
       "      <td>12</td>\n",
       "      <td>64.414162</td>\n",
       "      <td>3994.30</td>\n",
       "    </tr>\n",
       "  </tbody>\n",
       "</table>\n",
       "</div>"
      ],
      "text/plain": [
       "   PersonID  OTAZ  DTAZ  Taxi Cost  TaxiTime(s)\n",
       "0  30004031   377   425  10.104280       525.52\n",
       "1  30004031   425   377  10.104280       525.52\n",
       "2  30007491  1607  1607   8.223156       380.72\n",
       "3  30007491  1607  1607   8.223156       380.72\n",
       "4  30007492  1607    12  64.414162      3994.30"
      ]
     },
     "execution_count": 3,
     "metadata": {},
     "output_type": "execute_result"
    }
   ],
   "source": [
    "sample_trips.head()"
   ]
  },
  {
   "cell_type": "markdown",
   "metadata": {},
   "source": [
    "#### calculating average time and cost for each origin and destination pair"
   ]
  },
  {
   "cell_type": "code",
   "execution_count": 4,
   "metadata": {},
   "outputs": [
    {
     "data": {
      "text/html": [
       "<div>\n",
       "<style scoped>\n",
       "    .dataframe tbody tr th:only-of-type {\n",
       "        vertical-align: middle;\n",
       "    }\n",
       "\n",
       "    .dataframe tbody tr th {\n",
       "        vertical-align: top;\n",
       "    }\n",
       "\n",
       "    .dataframe thead th {\n",
       "        text-align: right;\n",
       "    }\n",
       "</style>\n",
       "<table border=\"1\" class=\"dataframe\">\n",
       "  <thead>\n",
       "    <tr style=\"text-align: right;\">\n",
       "      <th></th>\n",
       "      <th>DTAZ</th>\n",
       "      <th>Taxi Cost</th>\n",
       "      <th>TaxiTime(s)</th>\n",
       "    </tr>\n",
       "    <tr>\n",
       "      <th>OTAZ</th>\n",
       "      <th></th>\n",
       "      <th></th>\n",
       "      <th></th>\n",
       "    </tr>\n",
       "  </thead>\n",
       "  <tbody>\n",
       "    <tr>\n",
       "      <th>1</th>\n",
       "      <td>2</td>\n",
       "      <td>6.575988</td>\n",
       "      <td>197.76</td>\n",
       "    </tr>\n",
       "    <tr>\n",
       "      <th>1</th>\n",
       "      <td>32</td>\n",
       "      <td>11.497200</td>\n",
       "      <td>702.06</td>\n",
       "    </tr>\n",
       "    <tr>\n",
       "      <th>1</th>\n",
       "      <td>43</td>\n",
       "      <td>8.234352</td>\n",
       "      <td>380.92</td>\n",
       "    </tr>\n",
       "    <tr>\n",
       "      <th>1</th>\n",
       "      <td>91</td>\n",
       "      <td>14.851911</td>\n",
       "      <td>986.35</td>\n",
       "    </tr>\n",
       "    <tr>\n",
       "      <th>1</th>\n",
       "      <td>315</td>\n",
       "      <td>16.070569</td>\n",
       "      <td>1148.60</td>\n",
       "    </tr>\n",
       "  </tbody>\n",
       "</table>\n",
       "</div>"
      ],
      "text/plain": [
       "      DTAZ  Taxi Cost  TaxiTime(s)\n",
       "OTAZ                              \n",
       "1        2   6.575988       197.76\n",
       "1       32  11.497200       702.06\n",
       "1       43   8.234352       380.92\n",
       "1       91  14.851911       986.35\n",
       "1      315  16.070569      1148.60"
      ]
     },
     "execution_count": 4,
     "metadata": {},
     "output_type": "execute_result"
    }
   ],
   "source": [
    "agg_trip = sample_trips.groupby([\"OTAZ\",\"DTAZ\"]).agg({\"Taxi Cost\":'mean',\"TaxiTime(s)\":'mean'}).reset_index(level='DTAZ')\n",
    "agg_trip.head()"
   ]
  },
  {
   "cell_type": "code",
   "execution_count": 5,
   "metadata": {},
   "outputs": [],
   "source": [
    "tz_info = {} ## dictionary tz -> dict(tz -> [cost,time,uncertainity])"
   ]
  },
  {
   "cell_type": "code",
   "execution_count": 6,
   "metadata": {},
   "outputs": [],
   "source": [
    "for row in agg_trip.iterrows():\n",
    "    otz = row[0]\n",
    "    row = row[1]\n",
    "    dest_info = tz_info.get(otz,{})\n",
    "    dest_info[row['DTAZ']] = [row['Taxi Cost'],row['TaxiTime(s)']]\n",
    "    tz_info[otz] = dest_info"
   ]
  },
  {
   "cell_type": "markdown",
   "metadata": {},
   "source": [
    "### Function to calculate uncertainity of time and cost for each origin and destination pair\n",
    "**Uncertainity = actual_value - avg_value**"
   ]
  },
  {
   "cell_type": "code",
   "execution_count": 7,
   "metadata": {},
   "outputs": [],
   "source": [
    "def calc_uncertainity(row,cost=True):\n",
    "    \"\"\"\n",
    "    row -> each row of data frame\n",
    "    cost = True then calculate uncertainity in cost\n",
    "           False then calculate uncertainity in time\n",
    "    \"\"\"\n",
    "    if cost:\n",
    "        #return round(row['Taxi Cost'] - tz_info[row['OTAZ']][row['DTAZ']][0],8)\n",
    "        return row['Taxi Cost'] - tz_info[row['OTAZ']][row['DTAZ']][0]\n",
    "    else:\n",
    "        #return round(row['TaxiTime(s)'] - tz_info[row['OTAZ']][row['DTAZ']][1],8)\n",
    "        return row['TaxiTime(s)'] - tz_info[row['OTAZ']][row['DTAZ']][1]"
   ]
  },
  {
   "cell_type": "markdown",
   "metadata": {},
   "source": [
    "**Cost and time uncertainity calculated**"
   ]
  },
  {
   "cell_type": "code",
   "execution_count": 8,
   "metadata": {
    "scrolled": true
   },
   "outputs": [
    {
     "data": {
      "text/html": [
       "<div>\n",
       "<style scoped>\n",
       "    .dataframe tbody tr th:only-of-type {\n",
       "        vertical-align: middle;\n",
       "    }\n",
       "\n",
       "    .dataframe tbody tr th {\n",
       "        vertical-align: top;\n",
       "    }\n",
       "\n",
       "    .dataframe thead th {\n",
       "        text-align: right;\n",
       "    }\n",
       "</style>\n",
       "<table border=\"1\" class=\"dataframe\">\n",
       "  <thead>\n",
       "    <tr style=\"text-align: right;\">\n",
       "      <th></th>\n",
       "      <th>OTAZ</th>\n",
       "      <th>DTAZ</th>\n",
       "      <th>Taxi Cost</th>\n",
       "      <th>TaxiTime(s)</th>\n",
       "      <th>cost_uncertainity</th>\n",
       "      <th>time_uncertainity</th>\n",
       "    </tr>\n",
       "  </thead>\n",
       "  <tbody>\n",
       "    <tr>\n",
       "      <th>0</th>\n",
       "      <td>1</td>\n",
       "      <td>2</td>\n",
       "      <td>6.575988</td>\n",
       "      <td>197.76</td>\n",
       "      <td>0.0</td>\n",
       "      <td>0.0</td>\n",
       "    </tr>\n",
       "    <tr>\n",
       "      <th>1</th>\n",
       "      <td>1</td>\n",
       "      <td>32</td>\n",
       "      <td>11.497200</td>\n",
       "      <td>702.06</td>\n",
       "      <td>0.0</td>\n",
       "      <td>0.0</td>\n",
       "    </tr>\n",
       "    <tr>\n",
       "      <th>2</th>\n",
       "      <td>1</td>\n",
       "      <td>43</td>\n",
       "      <td>8.234352</td>\n",
       "      <td>380.92</td>\n",
       "      <td>0.0</td>\n",
       "      <td>0.0</td>\n",
       "    </tr>\n",
       "    <tr>\n",
       "      <th>3</th>\n",
       "      <td>1</td>\n",
       "      <td>91</td>\n",
       "      <td>14.851911</td>\n",
       "      <td>986.35</td>\n",
       "      <td>0.0</td>\n",
       "      <td>0.0</td>\n",
       "    </tr>\n",
       "    <tr>\n",
       "      <th>4</th>\n",
       "      <td>1</td>\n",
       "      <td>315</td>\n",
       "      <td>16.070569</td>\n",
       "      <td>1148.60</td>\n",
       "      <td>0.0</td>\n",
       "      <td>0.0</td>\n",
       "    </tr>\n",
       "  </tbody>\n",
       "</table>\n",
       "</div>"
      ],
      "text/plain": [
       "   OTAZ  DTAZ  Taxi Cost  TaxiTime(s)  cost_uncertainity  time_uncertainity\n",
       "0     1     2   6.575988       197.76                0.0                0.0\n",
       "1     1    32  11.497200       702.06                0.0                0.0\n",
       "2     1    43   8.234352       380.92                0.0                0.0\n",
       "3     1    91  14.851911       986.35                0.0                0.0\n",
       "4     1   315  16.070569      1148.60                0.0                0.0"
      ]
     },
     "execution_count": 8,
     "metadata": {},
     "output_type": "execute_result"
    }
   ],
   "source": [
    "sample_trips['cost_uncertainity'] = sample_trips.apply(lambda row: calc_uncertainity(row,True),axis=1)\n",
    "sample_trips['time_uncertainity'] = sample_trips.apply(lambda row: calc_uncertainity(row,False),axis=1)\n",
    "agg_trip = sample_trips.groupby([\"OTAZ\",\"DTAZ\"]).agg({\"Taxi Cost\":'mean',\"TaxiTime(s)\":'mean','cost_uncertainity':'mean','time_uncertainity':'mean'}).reset_index()\n",
    "agg_trip.head()"
   ]
  },
  {
   "cell_type": "markdown",
   "metadata": {},
   "source": [
    "#### Shape file for the taxi zones is ingested"
   ]
  },
  {
   "cell_type": "code",
   "execution_count": 9,
   "metadata": {},
   "outputs": [],
   "source": [
    "taxi_zones = gpd.read_file(\"taz_zones_wgs84.shp\")"
   ]
  },
  {
   "cell_type": "markdown",
   "metadata": {},
   "source": [
    "**dictionary to store corresponding geometries for each taxi zone**"
   ]
  },
  {
   "cell_type": "code",
   "execution_count": 10,
   "metadata": {},
   "outputs": [],
   "source": [
    "zone_shp = {}\n",
    "for row in taxi_zones.iterrows():\n",
    "    row = row[1]\n",
    "    zone_shp[row['TAZ_ID1']] = row['geometry']    "
   ]
  },
  {
   "cell_type": "markdown",
   "metadata": {},
   "source": [
    "**Geometry of each taxi zone being appended to the aggregate data frame and converted into geodataframe**"
   ]
  },
  {
   "cell_type": "code",
   "execution_count": 11,
   "metadata": {},
   "outputs": [
    {
     "data": {
      "text/html": [
       "<div>\n",
       "<style scoped>\n",
       "    .dataframe tbody tr th:only-of-type {\n",
       "        vertical-align: middle;\n",
       "    }\n",
       "\n",
       "    .dataframe tbody tr th {\n",
       "        vertical-align: top;\n",
       "    }\n",
       "\n",
       "    .dataframe thead th {\n",
       "        text-align: right;\n",
       "    }\n",
       "</style>\n",
       "<table border=\"1\" class=\"dataframe\">\n",
       "  <thead>\n",
       "    <tr style=\"text-align: right;\">\n",
       "      <th></th>\n",
       "      <th>DTAZ</th>\n",
       "      <th>Taxi Cost</th>\n",
       "      <th>TaxiTime(s)</th>\n",
       "      <th>cost_uncertainity</th>\n",
       "      <th>time_uncertainity</th>\n",
       "      <th>O_geom</th>\n",
       "    </tr>\n",
       "    <tr>\n",
       "      <th>OTAZ</th>\n",
       "      <th></th>\n",
       "      <th></th>\n",
       "      <th></th>\n",
       "      <th></th>\n",
       "      <th></th>\n",
       "      <th></th>\n",
       "    </tr>\n",
       "  </thead>\n",
       "  <tbody>\n",
       "    <tr>\n",
       "      <th>1</th>\n",
       "      <td>2</td>\n",
       "      <td>6.575988</td>\n",
       "      <td>197.76</td>\n",
       "      <td>0.0</td>\n",
       "      <td>0.0</td>\n",
       "      <td>POLYGON ((-74.01317399999999 40.719443, -74.01...</td>\n",
       "    </tr>\n",
       "    <tr>\n",
       "      <th>1</th>\n",
       "      <td>32</td>\n",
       "      <td>11.497200</td>\n",
       "      <td>702.06</td>\n",
       "      <td>0.0</td>\n",
       "      <td>0.0</td>\n",
       "      <td>POLYGON ((-73.99077299999999 40.731731, -73.99...</td>\n",
       "    </tr>\n",
       "    <tr>\n",
       "      <th>1</th>\n",
       "      <td>43</td>\n",
       "      <td>8.234352</td>\n",
       "      <td>380.92</td>\n",
       "      <td>0.0</td>\n",
       "      <td>0.0</td>\n",
       "      <td>POLYGON ((-73.998026 40.714393, -73.997788 40....</td>\n",
       "    </tr>\n",
       "    <tr>\n",
       "      <th>1</th>\n",
       "      <td>91</td>\n",
       "      <td>14.851911</td>\n",
       "      <td>986.35</td>\n",
       "      <td>0.0</td>\n",
       "      <td>0.0</td>\n",
       "      <td>POLYGON ((-73.99113899999999 40.74046, -73.990...</td>\n",
       "    </tr>\n",
       "    <tr>\n",
       "      <th>1</th>\n",
       "      <td>315</td>\n",
       "      <td>16.070569</td>\n",
       "      <td>1148.60</td>\n",
       "      <td>0.0</td>\n",
       "      <td>0.0</td>\n",
       "      <td>POLYGON ((-73.97271900000001 40.743418, -73.97...</td>\n",
       "    </tr>\n",
       "  </tbody>\n",
       "</table>\n",
       "</div>"
      ],
      "text/plain": [
       "      DTAZ  Taxi Cost  TaxiTime(s)  cost_uncertainity  time_uncertainity  \\\n",
       "OTAZ                                                                       \n",
       "1        2   6.575988       197.76                0.0                0.0   \n",
       "1       32  11.497200       702.06                0.0                0.0   \n",
       "1       43   8.234352       380.92                0.0                0.0   \n",
       "1       91  14.851911       986.35                0.0                0.0   \n",
       "1      315  16.070569      1148.60                0.0                0.0   \n",
       "\n",
       "                                                 O_geom  \n",
       "OTAZ                                                     \n",
       "1     POLYGON ((-74.01317399999999 40.719443, -74.01...  \n",
       "1     POLYGON ((-73.99077299999999 40.731731, -73.99...  \n",
       "1     POLYGON ((-73.998026 40.714393, -73.997788 40....  \n",
       "1     POLYGON ((-73.99113899999999 40.74046, -73.990...  \n",
       "1     POLYGON ((-73.97271900000001 40.743418, -73.97...  "
      ]
     },
     "execution_count": 11,
     "metadata": {},
     "output_type": "execute_result"
    }
   ],
   "source": [
    "agg_trip['O_geom'] = agg_trip.apply(lambda row: zone_shp[row['DTAZ']],axis =1 )\n",
    "agg_trip.set_index('OTAZ',inplace=True)\n",
    "agg_trip.head()"
   ]
  },
  {
   "cell_type": "markdown",
   "metadata": {},
   "source": [
    "**Final aggregated geo dataframe with average time, average cost, average cost uncertainity and average time uncertanity**"
   ]
  },
  {
   "cell_type": "code",
   "execution_count": 12,
   "metadata": {},
   "outputs": [
    {
     "data": {
      "text/html": [
       "<div>\n",
       "<style scoped>\n",
       "    .dataframe tbody tr th:only-of-type {\n",
       "        vertical-align: middle;\n",
       "    }\n",
       "\n",
       "    .dataframe tbody tr th {\n",
       "        vertical-align: top;\n",
       "    }\n",
       "\n",
       "    .dataframe thead th {\n",
       "        text-align: right;\n",
       "    }\n",
       "</style>\n",
       "<table border=\"1\" class=\"dataframe\">\n",
       "  <thead>\n",
       "    <tr style=\"text-align: right;\">\n",
       "      <th></th>\n",
       "      <th>DTAZ</th>\n",
       "      <th>Taxi Cost</th>\n",
       "      <th>TaxiTime(s)</th>\n",
       "      <th>cost_uncertainity</th>\n",
       "      <th>time_uncertainity</th>\n",
       "      <th>O_geom</th>\n",
       "    </tr>\n",
       "    <tr>\n",
       "      <th>OTAZ</th>\n",
       "      <th></th>\n",
       "      <th></th>\n",
       "      <th></th>\n",
       "      <th></th>\n",
       "      <th></th>\n",
       "      <th></th>\n",
       "    </tr>\n",
       "  </thead>\n",
       "  <tbody>\n",
       "    <tr>\n",
       "      <th>1</th>\n",
       "      <td>2</td>\n",
       "      <td>6.575988</td>\n",
       "      <td>197.76</td>\n",
       "      <td>0.0</td>\n",
       "      <td>0.0</td>\n",
       "      <td>POLYGON ((-74.01317 40.71944, -74.01257 40.719...</td>\n",
       "    </tr>\n",
       "    <tr>\n",
       "      <th>1</th>\n",
       "      <td>32</td>\n",
       "      <td>11.497200</td>\n",
       "      <td>702.06</td>\n",
       "      <td>0.0</td>\n",
       "      <td>0.0</td>\n",
       "      <td>POLYGON ((-73.99077 40.73173, -73.99095 40.731...</td>\n",
       "    </tr>\n",
       "    <tr>\n",
       "      <th>1</th>\n",
       "      <td>43</td>\n",
       "      <td>8.234352</td>\n",
       "      <td>380.92</td>\n",
       "      <td>0.0</td>\n",
       "      <td>0.0</td>\n",
       "      <td>POLYGON ((-73.99803 40.71439, -73.99779 40.714...</td>\n",
       "    </tr>\n",
       "    <tr>\n",
       "      <th>1</th>\n",
       "      <td>91</td>\n",
       "      <td>14.851911</td>\n",
       "      <td>986.35</td>\n",
       "      <td>0.0</td>\n",
       "      <td>0.0</td>\n",
       "      <td>POLYGON ((-73.99114 40.74046, -73.99062 40.741...</td>\n",
       "    </tr>\n",
       "    <tr>\n",
       "      <th>1</th>\n",
       "      <td>315</td>\n",
       "      <td>16.070569</td>\n",
       "      <td>1148.60</td>\n",
       "      <td>0.0</td>\n",
       "      <td>0.0</td>\n",
       "      <td>POLYGON ((-73.97272 40.74342, -73.97296 40.742...</td>\n",
       "    </tr>\n",
       "  </tbody>\n",
       "</table>\n",
       "</div>"
      ],
      "text/plain": [
       "      DTAZ  Taxi Cost  TaxiTime(s)  cost_uncertainity  time_uncertainity  \\\n",
       "OTAZ                                                                       \n",
       "1        2   6.575988       197.76                0.0                0.0   \n",
       "1       32  11.497200       702.06                0.0                0.0   \n",
       "1       43   8.234352       380.92                0.0                0.0   \n",
       "1       91  14.851911       986.35                0.0                0.0   \n",
       "1      315  16.070569      1148.60                0.0                0.0   \n",
       "\n",
       "                                                 O_geom  \n",
       "OTAZ                                                     \n",
       "1     POLYGON ((-74.01317 40.71944, -74.01257 40.719...  \n",
       "1     POLYGON ((-73.99077 40.73173, -73.99095 40.731...  \n",
       "1     POLYGON ((-73.99803 40.71439, -73.99779 40.714...  \n",
       "1     POLYGON ((-73.99114 40.74046, -73.99062 40.741...  \n",
       "1     POLYGON ((-73.97272 40.74342, -73.97296 40.742...  "
      ]
     },
     "execution_count": 12,
     "metadata": {},
     "output_type": "execute_result"
    }
   ],
   "source": [
    "agg_trip_geoDf = gpd.GeoDataFrame(agg_trip,geometry='O_geom')\n",
    "agg_trip_geoDf.head()"
   ]
  },
  {
   "cell_type": "code",
   "execution_count": null,
   "metadata": {},
   "outputs": [],
   "source": []
  }
 ],
 "metadata": {
  "kernelspec": {
   "display_name": "Python 3",
   "language": "python",
   "name": "python3"
  },
  "language_info": {
   "codemirror_mode": {
    "name": "ipython",
    "version": 3
   },
   "file_extension": ".py",
   "mimetype": "text/x-python",
   "name": "python",
   "nbconvert_exporter": "python",
   "pygments_lexer": "ipython3",
   "version": "3.7.6"
  }
 },
 "nbformat": 4,
 "nbformat_minor": 4
}
